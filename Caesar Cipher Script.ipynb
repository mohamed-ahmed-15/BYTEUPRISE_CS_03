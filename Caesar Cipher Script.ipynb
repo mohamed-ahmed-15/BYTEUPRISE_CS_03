{
 "cells": [
  {
   "cell_type": "code",
   "execution_count": 1,
   "id": "8ff199cb-75c5-42e7-acff-f53f236cbd4f",
   "metadata": {},
   "outputs": [
    {
     "name": "stdin",
     "output_type": "stream",
     "text": [
      "Choose an option (1 - Encrypt, 2 - Decrypt, 0 - Exit):  1\n",
      "Enter the text to encrypt:  Mohamed\n",
      "Enter the shift value:  3\n"
     ]
    },
    {
     "name": "stdout",
     "output_type": "stream",
     "text": [
      "Encrypted text: Prkdphg\n"
     ]
    },
    {
     "name": "stdin",
     "output_type": "stream",
     "text": [
      "Choose an option (1 - Encrypt, 2 - Decrypt, 0 - Exit):  2\n",
      "Enter the text to decrypt:  Prkdphg\n",
      "Enter the shift value:  3\n"
     ]
    },
    {
     "name": "stdout",
     "output_type": "stream",
     "text": [
      "Decrypted text: Mohamed\n"
     ]
    },
    {
     "name": "stdin",
     "output_type": "stream",
     "text": [
      "Choose an option (1 - Encrypt, 2 - Decrypt, 0 - Exit):  0\n"
     ]
    },
    {
     "name": "stdout",
     "output_type": "stream",
     "text": [
      "Exiting the program.\n"
     ]
    }
   ],
   "source": [
    "def caesar_cipher_encrypt(text, shift):\n",
    "    encrypted_text = \"\"\n",
    "    for char in text:\n",
    "        if char.isalpha():\n",
    "            # Preserve the case of the character\n",
    "            start = ord('A') if char.isupper() else ord('a')\n",
    "            encrypted_char = chr((ord(char) - start + shift) % 26 + start)\n",
    "            encrypted_text += encrypted_char\n",
    "        else:\n",
    "            encrypted_text += char\n",
    "    return encrypted_text\n",
    "\n",
    "def caesar_cipher_decrypt(text, shift):\n",
    "    return caesar_cipher_encrypt(text, -shift)\n",
    "\n",
    "def main():\n",
    "    while True:\n",
    "        choice = input(\"Choose an option (1 - Encrypt, 2 - Decrypt, 0 - Exit): \")\n",
    "        if choice == '1':\n",
    "            text = input(\"Enter the text to encrypt: \")\n",
    "            shift = int(input(\"Enter the shift value: \"))\n",
    "            encrypted_text = caesar_cipher_encrypt(text, shift)\n",
    "            print(f\"Encrypted text: {encrypted_text}\")\n",
    "        elif choice == '2':\n",
    "            text = input(\"Enter the text to decrypt: \")\n",
    "            shift = int(input(\"Enter the shift value: \"))\n",
    "            decrypted_text = caesar_cipher_decrypt(text, shift)\n",
    "            print(f\"Decrypted text: {decrypted_text}\")\n",
    "        elif choice == '0':\n",
    "            print(\"Exiting the program.\")\n",
    "            break\n",
    "        else:\n",
    "            print(\"Invalid choice. Please try again.\")\n",
    "\n",
    "if __name__ == \"__main__\":\n",
    "    main()\n"
   ]
  },
  {
   "cell_type": "code",
   "execution_count": null,
   "id": "293d5905-6e0d-4dbe-8ab4-6dc5e3171075",
   "metadata": {},
   "outputs": [],
   "source": []
  }
 ],
 "metadata": {
  "kernelspec": {
   "display_name": "Python 3 (ipykernel)",
   "language": "python",
   "name": "python3"
  },
  "language_info": {
   "codemirror_mode": {
    "name": "ipython",
    "version": 3
   },
   "file_extension": ".py",
   "mimetype": "text/x-python",
   "name": "python",
   "nbconvert_exporter": "python",
   "pygments_lexer": "ipython3",
   "version": "3.11.7"
  }
 },
 "nbformat": 4,
 "nbformat_minor": 5
}
